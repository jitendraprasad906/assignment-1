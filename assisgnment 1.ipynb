{
 "cells": [
  {
   "cell_type": "code",
   "execution_count": 2,
   "id": "98bf2231-630a-4a84-b32f-d1da86bcd454",
   "metadata": {},
   "outputs": [
    {
     "name": "stdout",
     "output_type": "stream",
     "text": [
      "23.0\n"
     ]
    }
   ],
   "source": [
    "#convert integer to floating no\n",
    "\n",
    "int_num=23\n",
    "float_num=float(int_num)\n",
    "print(float_num) "
   ]
  },
  {
   "cell_type": "code",
   "execution_count": 3,
   "id": "9888655c-cb2d-4e80-82b0-cbbd251dadf5",
   "metadata": {},
   "outputs": [
    {
     "name": "stdout",
     "output_type": "stream",
     "text": [
      "23\n"
     ]
    }
   ],
   "source": [
    "#convert float to integer \n",
    "\n",
    "float_num=23.999\n",
    "int_num= int(float_num)\n",
    "print(int_num) "
   ]
  },
  {
   "cell_type": "code",
   "execution_count": 5,
   "id": "a4892e21-2f1b-4799-a3be-b261362e2bf7",
   "metadata": {},
   "outputs": [
    {
     "name": "stdout",
     "output_type": "stream",
     "text": [
      "3\n",
      "<class 'str'>\n"
     ]
    }
   ],
   "source": [
    " #Convert a integer to a string.\n",
    "num=3\n",
    "string_num=str(num)\n",
    "print(string_num)\n",
    "print(type(string_num)) "
   ]
  },
  {
   "cell_type": "code",
   "execution_count": 15,
   "id": "af6da626-728a-4d67-987e-2f290c942897",
   "metadata": {},
   "outputs": [
    {
     "name": "stdout",
     "output_type": "stream",
     "text": [
      "(1, 2, 3, 4)\n"
     ]
    }
   ],
   "source": [
    "# convert a  list into a tuple\n",
    "\n",
    "def convert(list):\n",
    "\treturn (*list, )\n",
    "\n",
    "# Driver function\n",
    "list = [1, 2, 3, 4]\n",
    "print(convert(list))\n",
    "\n"
   ]
  },
  {
   "cell_type": "code",
   "execution_count": 20,
   "id": "91e8938a-7f59-40f6-aa61-38e122192344",
   "metadata": {},
   "outputs": [
    {
     "name": "stdout",
     "output_type": "stream",
     "text": [
      "[1, 2, 3]\n"
     ]
    }
   ],
   "source": [
    "# convert a tuple into a list\n",
    "# Define a tuple\n",
    "jitu_tuple=(1,2,3) \n",
    "jitu_list=[*jitu_tuple] \n",
    "print(jitu_list) \n"
   ]
  },
  {
   "cell_type": "code",
   "execution_count": 22,
   "id": "5e4a50b3-22c9-493e-9bdd-8f842f6beb37",
   "metadata": {},
   "outputs": [
    {
     "name": "stdout",
     "output_type": "stream",
     "text": [
      "101\n"
     ]
    }
   ],
   "source": [
    "#convert a decimal to binary number\n",
    "def convertToBinary(n):\n",
    "   if n > 1:\n",
    "       convertToBinary(n//2)\n",
    "   print(n % 2,end = '')\n",
    "\n",
    "# decimal number\n",
    "dec = 5\n",
    "\n",
    "convertToBinary(dec)\n",
    "print()"
   ]
  },
  {
   "cell_type": "code",
   "execution_count": 23,
   "id": "6f71b387-8c6b-4d30-b8ee-5469335b662f",
   "metadata": {},
   "outputs": [
    {
     "name": "stdout",
     "output_type": "stream",
     "text": [
      "True\n",
      "False\n"
     ]
    }
   ],
   "source": [
    "#convert a non zero to boolean number\n",
    "x = bool(1)\n",
    "print(x)\n",
    "y = bool()\n",
    "print(y) \n"
   ]
  },
  {
   "cell_type": "code",
   "execution_count": null,
   "id": "0f27efe4-9183-4fbd-9974-856c665bd043",
   "metadata": {},
   "outputs": [],
   "source": []
  }
 ],
 "metadata": {
  "kernelspec": {
   "display_name": "Python 3 (ipykernel)",
   "language": "python",
   "name": "python3"
  },
  "language_info": {
   "codemirror_mode": {
    "name": "ipython",
    "version": 3
   },
   "file_extension": ".py",
   "mimetype": "text/x-python",
   "name": "python",
   "nbconvert_exporter": "python",
   "pygments_lexer": "ipython3",
   "version": "3.10.8"
  }
 },
 "nbformat": 4,
 "nbformat_minor": 5
}
